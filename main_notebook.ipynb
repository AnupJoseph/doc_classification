{
 "cells": [
  {
   "cell_type": "markdown",
   "id": "9c15c7d5",
   "metadata": {},
   "source": [
    "# Introduction \n",
    "I have used a Visual Transformer model, specifically `google/vit-base-patch16-224-in21k` for image classification"
   ]
  },
  {
   "cell_type": "code",
   "execution_count": 1,
   "id": "8b668e1a",
   "metadata": {
    "_cell_guid": "b1076dfc-b9ad-4769-8c92-a6c4dae69d19",
    "_uuid": "8f2839f25d086af736a60e9eeb907d3b93b6e0e5",
    "execution": {
     "iopub.execute_input": "2025-06-12T16:31:27.168142Z",
     "iopub.status.busy": "2025-06-12T16:31:27.167659Z",
     "iopub.status.idle": "2025-06-12T16:31:32.624274Z",
     "shell.execute_reply": "2025-06-12T16:31:32.623515Z"
    },
    "papermill": {
     "duration": 5.464674,
     "end_time": "2025-06-12T16:31:32.625662",
     "exception": false,
     "start_time": "2025-06-12T16:31:27.160988",
     "status": "completed"
    },
    "tags": []
   },
   "outputs": [
    {
     "name": "stdout",
     "output_type": "stream",
     "text": [
      "Requirement already satisfied: gdown in /usr/local/lib/python3.11/dist-packages (5.2.0)\r\n",
      "Collecting evaluate\r\n",
      "  Downloading evaluate-0.4.3-py3-none-any.whl.metadata (9.2 kB)\r\n",
      "Requirement already satisfied: beautifulsoup4 in /usr/local/lib/python3.11/dist-packages (from gdown) (4.13.3)\r\n",
      "Requirement already satisfied: filelock in /usr/local/lib/python3.11/dist-packages (from gdown) (3.18.0)\r\n",
      "Requirement already satisfied: requests[socks] in /usr/local/lib/python3.11/dist-packages (from gdown) (2.32.3)\r\n",
      "Requirement already satisfied: tqdm in /usr/local/lib/python3.11/dist-packages (from gdown) (4.67.1)\r\n",
      "Requirement already satisfied: datasets>=2.0.0 in /usr/local/lib/python3.11/dist-packages (from evaluate) (3.6.0)\r\n",
      "Requirement already satisfied: numpy>=1.17 in /usr/local/lib/python3.11/dist-packages (from evaluate) (1.26.4)\r\n",
      "Requirement already satisfied: dill in /usr/local/lib/python3.11/dist-packages (from evaluate) (0.3.8)\r\n",
      "Requirement already satisfied: pandas in /usr/local/lib/python3.11/dist-packages (from evaluate) (2.2.3)\r\n",
      "Requirement already satisfied: xxhash in /usr/local/lib/python3.11/dist-packages (from evaluate) (3.5.0)\r\n",
      "Requirement already satisfied: multiprocess in /usr/local/lib/python3.11/dist-packages (from evaluate) (0.70.16)\r\n",
      "Requirement already satisfied: fsspec>=2021.05.0 in /usr/local/lib/python3.11/dist-packages (from fsspec[http]>=2021.05.0->evaluate) (2025.3.2)\r\n",
      "Requirement already satisfied: huggingface-hub>=0.7.0 in /usr/local/lib/python3.11/dist-packages (from evaluate) (0.31.1)\r\n",
      "Requirement already satisfied: packaging in /usr/local/lib/python3.11/dist-packages (from evaluate) (25.0)\r\n",
      "Requirement already satisfied: pyarrow>=15.0.0 in /usr/local/lib/python3.11/dist-packages (from datasets>=2.0.0->evaluate) (19.0.1)\r\n",
      "Collecting fsspec>=2021.05.0 (from fsspec[http]>=2021.05.0->evaluate)\r\n",
      "  Downloading fsspec-2025.3.0-py3-none-any.whl.metadata (11 kB)\r\n",
      "Requirement already satisfied: pyyaml>=5.1 in /usr/local/lib/python3.11/dist-packages (from datasets>=2.0.0->evaluate) (6.0.2)\r\n",
      "Requirement already satisfied: aiohttp!=4.0.0a0,!=4.0.0a1 in /usr/local/lib/python3.11/dist-packages (from fsspec[http]>=2021.05.0->evaluate) (3.11.18)\r\n",
      "Requirement already satisfied: typing-extensions>=3.7.4.3 in /usr/local/lib/python3.11/dist-packages (from huggingface-hub>=0.7.0->evaluate) (4.13.2)\r\n",
      "Requirement already satisfied: hf-xet<2.0.0,>=1.1.0 in /usr/local/lib/python3.11/dist-packages (from huggingface-hub>=0.7.0->evaluate) (1.1.0)\r\n",
      "Requirement already satisfied: mkl_fft in /usr/local/lib/python3.11/dist-packages (from numpy>=1.17->evaluate) (1.3.8)\r\n",
      "Requirement already satisfied: mkl_random in /usr/local/lib/python3.11/dist-packages (from numpy>=1.17->evaluate) (1.2.4)\r\n",
      "Requirement already satisfied: mkl_umath in /usr/local/lib/python3.11/dist-packages (from numpy>=1.17->evaluate) (0.1.1)\r\n",
      "Requirement already satisfied: mkl in /usr/local/lib/python3.11/dist-packages (from numpy>=1.17->evaluate) (2025.1.0)\r\n",
      "Requirement already satisfied: tbb4py in /usr/local/lib/python3.11/dist-packages (from numpy>=1.17->evaluate) (2022.1.0)\r\n",
      "Requirement already satisfied: mkl-service in /usr/local/lib/python3.11/dist-packages (from numpy>=1.17->evaluate) (2.4.1)\r\n",
      "Requirement already satisfied: charset-normalizer<4,>=2 in /usr/local/lib/python3.11/dist-packages (from requests[socks]->gdown) (3.4.2)\r\n",
      "Requirement already satisfied: idna<4,>=2.5 in /usr/local/lib/python3.11/dist-packages (from requests[socks]->gdown) (3.10)\r\n",
      "Requirement already satisfied: urllib3<3,>=1.21.1 in /usr/local/lib/python3.11/dist-packages (from requests[socks]->gdown) (2.4.0)\r\n",
      "Requirement already satisfied: certifi>=2017.4.17 in /usr/local/lib/python3.11/dist-packages (from requests[socks]->gdown) (2025.4.26)\r\n",
      "Requirement already satisfied: soupsieve>1.2 in /usr/local/lib/python3.11/dist-packages (from beautifulsoup4->gdown) (2.6)\r\n",
      "Requirement already satisfied: python-dateutil>=2.8.2 in /usr/local/lib/python3.11/dist-packages (from pandas->evaluate) (2.9.0.post0)\r\n",
      "Requirement already satisfied: pytz>=2020.1 in /usr/local/lib/python3.11/dist-packages (from pandas->evaluate) (2025.2)\r\n",
      "Requirement already satisfied: tzdata>=2022.7 in /usr/local/lib/python3.11/dist-packages (from pandas->evaluate) (2025.2)\r\n",
      "Requirement already satisfied: PySocks!=1.5.7,>=1.5.6 in /usr/local/lib/python3.11/dist-packages (from requests[socks]->gdown) (1.7.1)\r\n",
      "Requirement already satisfied: aiohappyeyeballs>=2.3.0 in /usr/local/lib/python3.11/dist-packages (from aiohttp!=4.0.0a0,!=4.0.0a1->fsspec[http]>=2021.05.0->evaluate) (2.6.1)\r\n",
      "Requirement already satisfied: aiosignal>=1.1.2 in /usr/local/lib/python3.11/dist-packages (from aiohttp!=4.0.0a0,!=4.0.0a1->fsspec[http]>=2021.05.0->evaluate) (1.3.2)\r\n",
      "Requirement already satisfied: attrs>=17.3.0 in /usr/local/lib/python3.11/dist-packages (from aiohttp!=4.0.0a0,!=4.0.0a1->fsspec[http]>=2021.05.0->evaluate) (25.3.0)\r\n",
      "Requirement already satisfied: frozenlist>=1.1.1 in /usr/local/lib/python3.11/dist-packages (from aiohttp!=4.0.0a0,!=4.0.0a1->fsspec[http]>=2021.05.0->evaluate) (1.6.0)\r\n",
      "Requirement already satisfied: multidict<7.0,>=4.5 in /usr/local/lib/python3.11/dist-packages (from aiohttp!=4.0.0a0,!=4.0.0a1->fsspec[http]>=2021.05.0->evaluate) (6.4.3)\r\n",
      "Requirement already satisfied: propcache>=0.2.0 in /usr/local/lib/python3.11/dist-packages (from aiohttp!=4.0.0a0,!=4.0.0a1->fsspec[http]>=2021.05.0->evaluate) (0.3.1)\r\n",
      "Requirement already satisfied: yarl<2.0,>=1.17.0 in /usr/local/lib/python3.11/dist-packages (from aiohttp!=4.0.0a0,!=4.0.0a1->fsspec[http]>=2021.05.0->evaluate) (1.20.0)\r\n",
      "Requirement already satisfied: six>=1.5 in /usr/local/lib/python3.11/dist-packages (from python-dateutil>=2.8.2->pandas->evaluate) (1.17.0)\r\n",
      "Requirement already satisfied: intel-openmp<2026,>=2024 in /usr/local/lib/python3.11/dist-packages (from mkl->numpy>=1.17->evaluate) (2024.2.0)\r\n",
      "Requirement already satisfied: tbb==2022.* in /usr/local/lib/python3.11/dist-packages (from mkl->numpy>=1.17->evaluate) (2022.1.0)\r\n",
      "Requirement already satisfied: tcmlib==1.* in /usr/local/lib/python3.11/dist-packages (from tbb==2022.*->mkl->numpy>=1.17->evaluate) (1.3.0)\r\n",
      "Requirement already satisfied: intel-cmplr-lib-rt in /usr/local/lib/python3.11/dist-packages (from mkl_umath->numpy>=1.17->evaluate) (2024.2.0)\r\n",
      "Requirement already satisfied: intel-cmplr-lib-ur==2024.2.0 in /usr/local/lib/python3.11/dist-packages (from intel-openmp<2026,>=2024->mkl->numpy>=1.17->evaluate) (2024.2.0)\r\n",
      "Downloading evaluate-0.4.3-py3-none-any.whl (84 kB)\r\n",
      "\u001b[2K   \u001b[90m━━━━━━━━━━━━━━━━━━━━━━━━━━━━━━━━━━━━━━━━\u001b[0m \u001b[32m84.0/84.0 kB\u001b[0m \u001b[31m3.3 MB/s\u001b[0m eta \u001b[36m0:00:00\u001b[0m\r\n",
      "\u001b[?25hDownloading fsspec-2025.3.0-py3-none-any.whl (193 kB)\r\n",
      "\u001b[2K   \u001b[90m━━━━━━━━━━━━━━━━━━━━━━━━━━━━━━━━━━━━━━━━\u001b[0m \u001b[32m193.6/193.6 kB\u001b[0m \u001b[31m10.9 MB/s\u001b[0m eta \u001b[36m0:00:00\u001b[0m\r\n",
      "\u001b[?25hInstalling collected packages: fsspec, evaluate\r\n",
      "  Attempting uninstall: fsspec\r\n",
      "    Found existing installation: fsspec 2025.3.2\r\n",
      "    Uninstalling fsspec-2025.3.2:\r\n",
      "      Successfully uninstalled fsspec-2025.3.2\r\n",
      "\u001b[31mERROR: pip's dependency resolver does not currently take into account all the packages that are installed. This behaviour is the source of the following dependency conflicts.\r\n",
      "cesium 0.12.4 requires numpy<3.0,>=2.0, but you have numpy 1.26.4 which is incompatible.\r\n",
      "bigframes 1.42.0 requires rich<14,>=12.4.4, but you have rich 14.0.0 which is incompatible.\r\n",
      "torch 2.6.0+cu124 requires nvidia-cublas-cu12==12.4.5.8; platform_system == \"Linux\" and platform_machine == \"x86_64\", but you have nvidia-cublas-cu12 12.9.0.13 which is incompatible.\r\n",
      "torch 2.6.0+cu124 requires nvidia-cudnn-cu12==9.1.0.70; platform_system == \"Linux\" and platform_machine == \"x86_64\", but you have nvidia-cudnn-cu12 9.3.0.75 which is incompatible.\r\n",
      "torch 2.6.0+cu124 requires nvidia-cufft-cu12==11.2.1.3; platform_system == \"Linux\" and platform_machine == \"x86_64\", but you have nvidia-cufft-cu12 11.4.0.6 which is incompatible.\r\n",
      "torch 2.6.0+cu124 requires nvidia-curand-cu12==10.3.5.147; platform_system == \"Linux\" and platform_machine == \"x86_64\", but you have nvidia-curand-cu12 10.3.10.19 which is incompatible.\r\n",
      "torch 2.6.0+cu124 requires nvidia-cusolver-cu12==11.6.1.9; platform_system == \"Linux\" and platform_machine == \"x86_64\", but you have nvidia-cusolver-cu12 11.7.4.40 which is incompatible.\r\n",
      "torch 2.6.0+cu124 requires nvidia-cusparse-cu12==12.3.1.170; platform_system == \"Linux\" and platform_machine == \"x86_64\", but you have nvidia-cusparse-cu12 12.5.9.5 which is incompatible.\r\n",
      "torch 2.6.0+cu124 requires nvidia-nvjitlink-cu12==12.4.127; platform_system == \"Linux\" and platform_machine == \"x86_64\", but you have nvidia-nvjitlink-cu12 12.9.41 which is incompatible.\r\n",
      "gcsfs 2025.3.2 requires fsspec==2025.3.2, but you have fsspec 2025.3.0 which is incompatible.\u001b[0m\u001b[31m\r\n",
      "\u001b[0mSuccessfully installed evaluate-0.4.3 fsspec-2025.3.0\r\n"
     ]
    }
   ],
   "source": [
    "!pip install gdown evaluate"
   ]
  },
  {
   "cell_type": "markdown",
   "id": "ce0f0673",
   "metadata": {},
   "source": [
    "This google drive link contains a sample of the dataset "
   ]
  },
  {
   "cell_type": "code",
   "execution_count": 2,
   "id": "3157a2bb",
   "metadata": {
    "execution": {
     "iopub.execute_input": "2025-06-12T16:31:32.634884Z",
     "iopub.status.busy": "2025-06-12T16:31:32.634640Z",
     "iopub.status.idle": "2025-06-12T16:33:31.428035Z",
     "shell.execute_reply": "2025-06-12T16:33:31.427275Z"
    },
    "papermill": {
     "duration": 118.799555,
     "end_time": "2025-06-12T16:33:31.429592",
     "exception": false,
     "start_time": "2025-06-12T16:31:32.630037",
     "status": "completed"
    },
    "tags": []
   },
   "outputs": [
    {
     "name": "stdout",
     "output_type": "stream",
     "text": [
      "Retrieving folder contents\r\n",
      "Processing file 1mJMSCMvMERxx5KV3F1A9n0lVSN0uyVN6 data-00000-of-00012.arrow\r\n",
      "Processing file 14MzgUcsDhI0pm_5WsTC9XM-PfCh38LRs data-00001-of-00012.arrow\r\n",
      "Processing file 1r5i23PHJjS3jwM24sLpZpcm_prviH9ub data-00002-of-00012.arrow\r\n",
      "Processing file 1tWfurqu_POnJLQwcmZBFp1PqAviKRHbw data-00003-of-00012.arrow\r\n",
      "Processing file 1451VD0wpafAdohLEs7FldK_wecTJ1Q6M data-00004-of-00012.arrow\r\n",
      "Processing file 1un3h1Zxm-Pri_uM2WbAB6_aheCd_DH9X data-00005-of-00012.arrow\r\n",
      "Processing file 1iAg90ye8EgGgzv35RZS_N5im53DGUdde data-00006-of-00012.arrow\r\n",
      "Processing file 1Z-rJBeYGXCMMhkwRZYU63qsSSSzZwsvv data-00007-of-00012.arrow\r\n",
      "Processing file 1IdYL9cPGjfIizOsAJPiRG5fnTL-Md1j7 data-00008-of-00012.arrow\r\n",
      "Processing file 1wSAJQycPMbco183H7_PQ6tzhJYUWDwBU data-00009-of-00012.arrow\r\n",
      "Processing file 1hv-5q3xauwP1jNlBVDhoxCZUO27J5xlM data-00010-of-00012.arrow\r\n",
      "Processing file 1vJJFMdwaEOIilwZwJeeRnNQdKiyta4hx data-00011-of-00012.arrow\r\n",
      "Processing file 1QpAnoO2vgTsx8415ZJel883ig-HaulLp dataset_info.json\r\n",
      "Processing file 1GnWcMrfgDhchvk69XtArB9N6MGF9S4QC state.json\r\n",
      "Retrieving folder contents completed\r\n",
      "Building directory structure\r\n",
      "Building directory structure completed\r\n",
      "Downloading...\r\n",
      "From (original): https://drive.google.com/uc?id=1mJMSCMvMERxx5KV3F1A9n0lVSN0uyVN6\r\n",
      "From (redirected): https://drive.google.com/uc?id=1mJMSCMvMERxx5KV3F1A9n0lVSN0uyVN6&confirm=t&uuid=366b1921-a4ba-4bc7-bd73-cccdbf920689\r\n",
      "To: /tmp/folder/data-00000-of-00012.arrow\r\n",
      "100%|█████████████████████████████████████████| 485M/485M [00:02<00:00, 193MB/s]\r\n",
      "Downloading...\r\n",
      "From (original): https://drive.google.com/uc?id=14MzgUcsDhI0pm_5WsTC9XM-PfCh38LRs\r\n",
      "From (redirected): https://drive.google.com/uc?id=14MzgUcsDhI0pm_5WsTC9XM-PfCh38LRs&confirm=t&uuid=a4157ecf-4224-4092-9618-20d40d53b0af\r\n",
      "To: /tmp/folder/data-00001-of-00012.arrow\r\n",
      "100%|████████████████████████████████████████| 486M/486M [00:05<00:00, 96.2MB/s]\r\n",
      "Downloading...\r\n",
      "From (original): https://drive.google.com/uc?id=1r5i23PHJjS3jwM24sLpZpcm_prviH9ub\r\n",
      "From (redirected): https://drive.google.com/uc?id=1r5i23PHJjS3jwM24sLpZpcm_prviH9ub&confirm=t&uuid=c0daa2b3-b6b6-4e94-bca7-21a60d8bccb2\r\n",
      "To: /tmp/folder/data-00002-of-00012.arrow\r\n",
      "100%|████████████████████████████████████████| 478M/478M [00:04<00:00, 96.9MB/s]\r\n",
      "Downloading...\r\n",
      "From (original): https://drive.google.com/uc?id=1tWfurqu_POnJLQwcmZBFp1PqAviKRHbw\r\n",
      "From (redirected): https://drive.google.com/uc?id=1tWfurqu_POnJLQwcmZBFp1PqAviKRHbw&confirm=t&uuid=28ce6f22-047f-4c9d-ae79-76c3a891a18b\r\n",
      "To: /tmp/folder/data-00003-of-00012.arrow\r\n",
      "100%|█████████████████████████████████████████| 475M/475M [00:02<00:00, 187MB/s]\r\n",
      "Downloading...\r\n",
      "From (original): https://drive.google.com/uc?id=1451VD0wpafAdohLEs7FldK_wecTJ1Q6M\r\n",
      "From (redirected): https://drive.google.com/uc?id=1451VD0wpafAdohLEs7FldK_wecTJ1Q6M&confirm=t&uuid=19e13a1b-86f8-4d0c-af85-fc5cf373cb10\r\n",
      "To: /tmp/folder/data-00004-of-00012.arrow\r\n",
      "100%|█████████████████████████████████████████| 487M/487M [00:04<00:00, 112MB/s]\r\n",
      "Downloading...\r\n",
      "From (original): https://drive.google.com/uc?id=1un3h1Zxm-Pri_uM2WbAB6_aheCd_DH9X\r\n",
      "From (redirected): https://drive.google.com/uc?id=1un3h1Zxm-Pri_uM2WbAB6_aheCd_DH9X&confirm=t&uuid=bcad6b72-4a44-4503-b4af-05b1913822bd\r\n",
      "To: /tmp/folder/data-00005-of-00012.arrow\r\n",
      "100%|████████████████████████████████████████| 482M/482M [00:05<00:00, 80.9MB/s]\r\n",
      "Downloading...\r\n",
      "From (original): https://drive.google.com/uc?id=1iAg90ye8EgGgzv35RZS_N5im53DGUdde\r\n",
      "From (redirected): https://drive.google.com/uc?id=1iAg90ye8EgGgzv35RZS_N5im53DGUdde&confirm=t&uuid=de316685-eedd-4dee-9659-ecbc0291c734\r\n",
      "To: /tmp/folder/data-00006-of-00012.arrow\r\n",
      "100%|████████████████████████████████████████| 489M/489M [00:05<00:00, 85.6MB/s]\r\n",
      "Downloading...\r\n",
      "From (original): https://drive.google.com/uc?id=1Z-rJBeYGXCMMhkwRZYU63qsSSSzZwsvv\r\n",
      "From (redirected): https://drive.google.com/uc?id=1Z-rJBeYGXCMMhkwRZYU63qsSSSzZwsvv&confirm=t&uuid=737072d2-95cc-468e-9d47-46211e541853\r\n",
      "To: /tmp/folder/data-00007-of-00012.arrow\r\n",
      "100%|████████████████████████████████████████| 486M/486M [00:05<00:00, 85.2MB/s]\r\n",
      "Downloading...\r\n",
      "From (original): https://drive.google.com/uc?id=1IdYL9cPGjfIizOsAJPiRG5fnTL-Md1j7\r\n",
      "From (redirected): https://drive.google.com/uc?id=1IdYL9cPGjfIizOsAJPiRG5fnTL-Md1j7&confirm=t&uuid=8802cb47-a3b1-4361-90b3-597a89a7a9df\r\n",
      "To: /tmp/folder/data-00008-of-00012.arrow\r\n",
      "100%|█████████████████████████████████████████| 486M/486M [00:04<00:00, 111MB/s]\r\n",
      "Downloading...\r\n",
      "From (original): https://drive.google.com/uc?id=1wSAJQycPMbco183H7_PQ6tzhJYUWDwBU\r\n",
      "From (redirected): https://drive.google.com/uc?id=1wSAJQycPMbco183H7_PQ6tzhJYUWDwBU&confirm=t&uuid=05f0a0e2-edad-4142-9d7b-7cbc180f86a8\r\n",
      "To: /tmp/folder/data-00009-of-00012.arrow\r\n",
      "100%|████████████████████████████████████████| 485M/485M [00:04<00:00, 99.3MB/s]\r\n",
      "Downloading...\r\n",
      "From (original): https://drive.google.com/uc?id=1hv-5q3xauwP1jNlBVDhoxCZUO27J5xlM\r\n",
      "From (redirected): https://drive.google.com/uc?id=1hv-5q3xauwP1jNlBVDhoxCZUO27J5xlM&confirm=t&uuid=37f5af80-7045-4d5d-af27-a0d65c2a9daf\r\n",
      "To: /tmp/folder/data-00010-of-00012.arrow\r\n",
      "100%|█████████████████████████████████████████| 485M/485M [00:04<00:00, 109MB/s]\r\n",
      "Downloading...\r\n",
      "From (original): https://drive.google.com/uc?id=1vJJFMdwaEOIilwZwJeeRnNQdKiyta4hx\r\n",
      "From (redirected): https://drive.google.com/uc?id=1vJJFMdwaEOIilwZwJeeRnNQdKiyta4hx&confirm=t&uuid=26362cfd-f510-4696-bc08-a2001199a32c\r\n",
      "To: /tmp/folder/data-00011-of-00012.arrow\r\n",
      "100%|████████████████████████████████████████| 482M/482M [00:05<00:00, 87.3MB/s]\r\n",
      "Downloading...\r\n",
      "From: https://drive.google.com/uc?id=1QpAnoO2vgTsx8415ZJel883ig-HaulLp\r\n",
      "To: /tmp/folder/dataset_info.json\r\n",
      "100%|██████████████████████████████████████| 4.07k/4.07k [00:00<00:00, 25.7MB/s]\r\n",
      "Downloading...\r\n",
      "From: https://drive.google.com/uc?id=1GnWcMrfgDhchvk69XtArB9N6MGF9S4QC\r\n",
      "To: /tmp/folder/state.json\r\n",
      "100%|██████████████████████████████████████████| 899/899 [00:00<00:00, 5.52MB/s]\r\n",
      "Download completed\r\n"
     ]
    }
   ],
   "source": [
    "!gdown \"https://drive.google.com/drive/folders/11YDOiQwyjnt1E8spPrCyOdJhC7eUuR5c\" -O /tmp/folder --folder"
   ]
  },
  {
   "cell_type": "code",
   "execution_count": 3,
   "id": "d280b7e4",
   "metadata": {
    "execution": {
     "iopub.execute_input": "2025-06-12T16:33:31.468492Z",
     "iopub.status.busy": "2025-06-12T16:33:31.468028Z",
     "iopub.status.idle": "2025-06-12T16:34:10.707771Z",
     "shell.execute_reply": "2025-06-12T16:34:10.706954Z"
    },
    "papermill": {
     "duration": 39.279367,
     "end_time": "2025-06-12T16:34:10.728444",
     "exception": false,
     "start_time": "2025-06-12T16:33:31.449077",
     "status": "completed"
    },
    "tags": []
   },
   "outputs": [
    {
     "name": "stderr",
     "output_type": "stream",
     "text": [
      "2025-06-12 16:33:50.000967: E external/local_xla/xla/stream_executor/cuda/cuda_fft.cc:477] Unable to register cuFFT factory: Attempting to register factory for plugin cuFFT when one has already been registered\n",
      "WARNING: All log messages before absl::InitializeLog() is called are written to STDERR\n",
      "E0000 00:00:1749746030.322524      19 cuda_dnn.cc:8310] Unable to register cuDNN factory: Attempting to register factory for plugin cuDNN when one has already been registered\n",
      "E0000 00:00:1749746030.394043      19 cuda_blas.cc:1418] Unable to register cuBLAS factory: Attempting to register factory for plugin cuBLAS when one has already been registered\n"
     ]
    },
    {
     "data": {
      "text/html": [
       "<button onClick=\"this.nextSibling.style.display='block';this.style.display='none';\">Display W&B run</button><iframe src='https://wandb.ai/dummy/dummy/runs/5uh9mseu?jupyter=true' style='border:none;width:100%;height:420px;display:none;'></iframe>"
      ],
      "text/plain": [
       "<wandb.sdk.wandb_run.Run at 0x7c99b09af090>"
      ]
     },
     "execution_count": 3,
     "metadata": {},
     "output_type": "execute_result"
    }
   ],
   "source": [
    "from functools import partial\n",
    "\n",
    "from datasets import load_from_disk\n",
    "from transformers import AutoImageProcessor,AutoModelForImageClassification, TrainingArguments, Trainer, DefaultDataCollator\n",
    "from torchvision.transforms import RandomResizedCrop, Compose, Normalize, ToTensor\n",
    "from torchvision.transforms import v2\n",
    "import evaluate\n",
    "import numpy as np\n",
    "import wandb\n",
    "wandb.init(mode=\"disabled\")"
   ]
  },
  {
   "cell_type": "code",
   "execution_count": 4,
   "id": "458b9d82",
   "metadata": {
    "execution": {
     "iopub.execute_input": "2025-06-12T16:34:10.766727Z",
     "iopub.status.busy": "2025-06-12T16:34:10.765597Z",
     "iopub.status.idle": "2025-06-12T16:34:10.809868Z",
     "shell.execute_reply": "2025-06-12T16:34:10.809256Z"
    },
    "papermill": {
     "duration": 0.064384,
     "end_time": "2025-06-12T16:34:10.811118",
     "exception": false,
     "start_time": "2025-06-12T16:34:10.746734",
     "status": "completed"
    },
    "tags": []
   },
   "outputs": [],
   "source": [
    "dataset = load_from_disk(\"/tmp/folder\")"
   ]
  },
  {
   "cell_type": "code",
   "execution_count": 5,
   "id": "50bb608f",
   "metadata": {
    "execution": {
     "iopub.execute_input": "2025-06-12T16:34:10.865151Z",
     "iopub.status.busy": "2025-06-12T16:34:10.864514Z",
     "iopub.status.idle": "2025-06-12T16:34:10.888048Z",
     "shell.execute_reply": "2025-06-12T16:34:10.887441Z"
    },
    "papermill": {
     "duration": 0.051348,
     "end_time": "2025-06-12T16:34:10.889305",
     "exception": false,
     "start_time": "2025-06-12T16:34:10.837957",
     "status": "completed"
    },
    "tags": []
   },
   "outputs": [],
   "source": [
    "saved_dataset = dataset.train_test_split(test_size=0.05,train_size=0.5)\n",
    "train,test = saved_dataset[\"train\"],saved_dataset[\"test\"]"
   ]
  },
  {
   "cell_type": "code",
   "execution_count": 6,
   "id": "27fd58e9",
   "metadata": {
    "execution": {
     "iopub.execute_input": "2025-06-12T16:34:10.927417Z",
     "iopub.status.busy": "2025-06-12T16:34:10.926995Z",
     "iopub.status.idle": "2025-06-12T16:34:10.931330Z",
     "shell.execute_reply": "2025-06-12T16:34:10.930550Z"
    },
    "papermill": {
     "duration": 0.024198,
     "end_time": "2025-06-12T16:34:10.932428",
     "exception": false,
     "start_time": "2025-06-12T16:34:10.908230",
     "status": "completed"
    },
    "tags": []
   },
   "outputs": [],
   "source": [
    "labels = saved_dataset[\"train\"].features[\"label\"].names\n",
    "label2id, id2label = dict(), dict()\n",
    "for i, label in enumerate(labels):\n",
    "    label2id[label] = str(i)\n",
    "    id2label[str(i)] = label"
   ]
  },
  {
   "cell_type": "code",
   "execution_count": 7,
   "id": "aa50940f",
   "metadata": {
    "execution": {
     "iopub.execute_input": "2025-06-12T16:34:10.970334Z",
     "iopub.status.busy": "2025-06-12T16:34:10.970050Z",
     "iopub.status.idle": "2025-06-12T16:34:11.621193Z",
     "shell.execute_reply": "2025-06-12T16:34:11.620604Z"
    },
    "papermill": {
     "duration": 0.671674,
     "end_time": "2025-06-12T16:34:11.622506",
     "exception": false,
     "start_time": "2025-06-12T16:34:10.950832",
     "status": "completed"
    },
    "tags": []
   },
   "outputs": [
    {
     "data": {
      "application/vnd.jupyter.widget-view+json": {
       "model_id": "dcbfedc41b6144539eb933702ca559c9",
       "version_major": 2,
       "version_minor": 0
      },
      "text/plain": [
       "preprocessor_config.json:   0%|          | 0.00/160 [00:00<?, ?B/s]"
      ]
     },
     "metadata": {},
     "output_type": "display_data"
    },
    {
     "data": {
      "application/vnd.jupyter.widget-view+json": {
       "model_id": "8145b1dc96c84a5e9b1c58eb56e53d2a",
       "version_major": 2,
       "version_minor": 0
      },
      "text/plain": [
       "config.json:   0%|          | 0.00/502 [00:00<?, ?B/s]"
      ]
     },
     "metadata": {},
     "output_type": "display_data"
    }
   ],
   "source": [
    "checkpoint = \"google/vit-base-patch16-224-in21k\"\n",
    "image_processor = AutoImageProcessor.from_pretrained(checkpoint,use_fast=True)"
   ]
  },
  {
   "cell_type": "code",
   "execution_count": 8,
   "id": "7a12d58a",
   "metadata": {
    "execution": {
     "iopub.execute_input": "2025-06-12T16:34:11.664296Z",
     "iopub.status.busy": "2025-06-12T16:34:11.664017Z",
     "iopub.status.idle": "2025-06-12T16:34:11.668436Z",
     "shell.execute_reply": "2025-06-12T16:34:11.667902Z"
    },
    "papermill": {
     "duration": 0.025346,
     "end_time": "2025-06-12T16:34:11.669510",
     "exception": false,
     "start_time": "2025-06-12T16:34:11.644164",
     "status": "completed"
    },
    "tags": []
   },
   "outputs": [],
   "source": [
    "\n",
    "normalize = Normalize(mean=image_processor.image_mean, std=image_processor.image_std)\n",
    "size = (\n",
    "    image_processor.size[\"shortest_edge\"]\n",
    "    if \"shortest_edge\" in image_processor.size\n",
    "    else (image_processor.size[\"height\"], image_processor.size[\"width\"])\n",
    ")\n",
    "_transforms = Compose([RandomResizedCrop(size), ToTensor(), normalize])"
   ]
  },
  {
   "cell_type": "code",
   "execution_count": 9,
   "id": "465f8200",
   "metadata": {
    "execution": {
     "iopub.execute_input": "2025-06-12T16:34:11.757738Z",
     "iopub.status.busy": "2025-06-12T16:34:11.757442Z",
     "iopub.status.idle": "2025-06-12T16:34:11.764541Z",
     "shell.execute_reply": "2025-06-12T16:34:11.763597Z"
    },
    "papermill": {
     "duration": 0.028627,
     "end_time": "2025-06-12T16:34:11.765672",
     "exception": false,
     "start_time": "2025-06-12T16:34:11.737045",
     "status": "completed"
    },
    "tags": []
   },
   "outputs": [
    {
     "name": "stderr",
     "output_type": "stream",
     "text": [
      "/usr/local/lib/python3.11/dist-packages/torchvision/transforms/v2/_deprecated.py:42: UserWarning: The transform `ToTensor()` is deprecated and will be removed in a future release. Instead, please use `v2.Compose([v2.ToImage(), v2.ToDtype(torch.float32, scale=True)])`.Output is equivalent up to float precision.\n",
      "  warnings.warn(\n"
     ]
    }
   ],
   "source": [
    "train_transform = v2.Compose([\n",
    "      v2.Resize((image_processor.size[\"height\"], image_processor.size[\"width\"])),\n",
    "      v2.RandomHorizontalFlip(0.4),\n",
    "      v2.RandomVerticalFlip(0.1),\n",
    "      v2.RandomApply(transforms=[v2.RandomRotation(degrees=(0, 90))], p=0.5),\n",
    "      v2.RandomApply(transforms=[v2.ColorJitter(brightness=.3, hue=.1)], p=0.3),\n",
    "      v2.RandomApply(transforms=[v2.GaussianBlur(kernel_size=(5, 9))], p=0.3),\n",
    "      v2.ToTensor(),\n",
    "      normalize\n",
    "      #transforms.Normalize(mean = (0.485, 0.456, 0.406), std = (0.229, 0.224, 0.225))\n",
    " ])\n",
    "\n",
    "test_transform = v2.Compose([\n",
    "    v2.Resize((image_processor.size[\"height\"], image_processor.size[\"width\"])),\n",
    "    v2.ToTensor(),\n",
    "    normalize\n",
    "])"
   ]
  },
  {
   "cell_type": "code",
   "execution_count": 10,
   "id": "611d3c33",
   "metadata": {
    "execution": {
     "iopub.execute_input": "2025-06-12T16:34:11.804623Z",
     "iopub.status.busy": "2025-06-12T16:34:11.804377Z",
     "iopub.status.idle": "2025-06-12T16:34:11.820362Z",
     "shell.execute_reply": "2025-06-12T16:34:11.819791Z"
    },
    "papermill": {
     "duration": 0.036897,
     "end_time": "2025-06-12T16:34:11.821498",
     "exception": false,
     "start_time": "2025-06-12T16:34:11.784601",
     "status": "completed"
    },
    "tags": []
   },
   "outputs": [],
   "source": [
    "def transforms(examples,t):\n",
    "    examples[\"pixel_values\"] = [t(img.convert(\"RGB\")) for img in examples[\"image\"]]\n",
    "    del examples[\"image\"]\n",
    "    return examples\n",
    "\n",
    "train = train.with_transform(partial(transforms,t=train_transform))\n",
    "test = test.with_transform(partial(transforms,t=test_transform))"
   ]
  },
  {
   "cell_type": "code",
   "execution_count": 11,
   "id": "3613a749",
   "metadata": {
    "execution": {
     "iopub.execute_input": "2025-06-12T16:34:11.857901Z",
     "iopub.status.busy": "2025-06-12T16:34:11.857489Z",
     "iopub.status.idle": "2025-06-12T16:34:12.527478Z",
     "shell.execute_reply": "2025-06-12T16:34:12.526982Z"
    },
    "papermill": {
     "duration": 0.689437,
     "end_time": "2025-06-12T16:34:12.528631",
     "exception": false,
     "start_time": "2025-06-12T16:34:11.839194",
     "status": "completed"
    },
    "tags": []
   },
   "outputs": [
    {
     "data": {
      "application/vnd.jupyter.widget-view+json": {
       "model_id": "9d7d60b708144433a03ef510e9ca41fe",
       "version_major": 2,
       "version_minor": 0
      },
      "text/plain": [
       "Downloading builder script:   0%|          | 0.00/4.20k [00:00<?, ?B/s]"
      ]
     },
     "metadata": {},
     "output_type": "display_data"
    }
   ],
   "source": [
    "data_collator = DefaultDataCollator()\n",
    "accuracy = evaluate.load(\"accuracy\")"
   ]
  },
  {
   "cell_type": "code",
   "execution_count": 12,
   "id": "efd686fc",
   "metadata": {
    "execution": {
     "iopub.execute_input": "2025-06-12T16:34:12.565658Z",
     "iopub.status.busy": "2025-06-12T16:34:12.565059Z",
     "iopub.status.idle": "2025-06-12T16:34:12.568755Z",
     "shell.execute_reply": "2025-06-12T16:34:12.568233Z"
    },
    "papermill": {
     "duration": 0.023285,
     "end_time": "2025-06-12T16:34:12.569926",
     "exception": false,
     "start_time": "2025-06-12T16:34:12.546641",
     "status": "completed"
    },
    "tags": []
   },
   "outputs": [],
   "source": [
    "def compute_metrics(eval_pred):\n",
    "    predictions, labels = eval_pred\n",
    "    predictions = np.argmax(predictions, axis=1)\n",
    "    return accuracy.compute(predictions=predictions, references=labels)"
   ]
  },
  {
   "cell_type": "code",
   "execution_count": 13,
   "id": "2f37c1c3",
   "metadata": {
    "execution": {
     "iopub.execute_input": "2025-06-12T16:34:12.608293Z",
     "iopub.status.busy": "2025-06-12T16:34:12.607600Z",
     "iopub.status.idle": "2025-06-12T16:34:15.331368Z",
     "shell.execute_reply": "2025-06-12T16:34:15.330835Z"
    },
    "papermill": {
     "duration": 2.743591,
     "end_time": "2025-06-12T16:34:15.332512",
     "exception": false,
     "start_time": "2025-06-12T16:34:12.588921",
     "status": "completed"
    },
    "tags": []
   },
   "outputs": [
    {
     "data": {
      "application/vnd.jupyter.widget-view+json": {
       "model_id": "eb8893a79b4f48ef8873da68724ac791",
       "version_major": 2,
       "version_minor": 0
      },
      "text/plain": [
       "model.safetensors:   0%|          | 0.00/346M [00:00<?, ?B/s]"
      ]
     },
     "metadata": {},
     "output_type": "display_data"
    },
    {
     "name": "stderr",
     "output_type": "stream",
     "text": [
      "Some weights of ViTForImageClassification were not initialized from the model checkpoint at google/vit-base-patch16-224-in21k and are newly initialized: ['classifier.bias', 'classifier.weight']\n",
      "You should probably TRAIN this model on a down-stream task to be able to use it for predictions and inference.\n"
     ]
    }
   ],
   "source": [
    "model = AutoModelForImageClassification.from_pretrained(\n",
    "    checkpoint,\n",
    "    num_labels=len(labels),\n",
    "    id2label=id2label,\n",
    "    label2id=label2id,\n",
    "    device_map=\"auto\",\n",
    ")\n",
    "# model.to(\"cuda\")"
   ]
  },
  {
   "cell_type": "code",
   "execution_count": 14,
   "id": "6909d2ca",
   "metadata": {
    "execution": {
     "iopub.execute_input": "2025-06-12T16:34:15.369501Z",
     "iopub.status.busy": "2025-06-12T16:34:15.369235Z",
     "iopub.status.idle": "2025-06-12T16:34:15.684957Z",
     "shell.execute_reply": "2025-06-12T16:34:15.684364Z"
    },
    "papermill": {
     "duration": 0.335678,
     "end_time": "2025-06-12T16:34:15.686214",
     "exception": false,
     "start_time": "2025-06-12T16:34:15.350536",
     "status": "completed"
    },
    "tags": []
   },
   "outputs": [],
   "source": [
    "training_args = TrainingArguments(\n",
    "    output_dir=\"rvl_cdip_model\",\n",
    "    remove_unused_columns=False,\n",
    "    eval_strategy=\"epoch\",\n",
    "    save_strategy=\"epoch\",\n",
    "    learning_rate=5e-5,\n",
    "    per_device_train_batch_size=64,\n",
    "    gradient_accumulation_steps=4,\n",
    "    per_device_eval_batch_size=32,\n",
    "    num_train_epochs=10,\n",
    "    warmup_ratio=0.1,\n",
    "    logging_steps=1,\n",
    "    load_best_model_at_end=True,\n",
    "    metric_for_best_model=\"accuracy\",\n",
    "    push_to_hub=False,\n",
    ")\n",
    "\n",
    "trainer = Trainer(\n",
    "    model=model,\n",
    "    args=training_args,\n",
    "    data_collator=data_collator,\n",
    "    train_dataset=train,\n",
    "    eval_dataset=test,\n",
    "    processing_class=image_processor,\n",
    "    compute_metrics=compute_metrics,\n",
    ")"
   ]
  },
  {
   "cell_type": "code",
   "execution_count": 15,
   "id": "8b88d075",
   "metadata": {
    "execution": {
     "iopub.execute_input": "2025-06-12T16:34:15.722802Z",
     "iopub.status.busy": "2025-06-12T16:34:15.722271Z",
     "iopub.status.idle": "2025-06-12T18:32:10.017242Z",
     "shell.execute_reply": "2025-06-12T18:32:10.016577Z"
    },
    "papermill": {
     "duration": 7074.314092,
     "end_time": "2025-06-12T18:32:10.018460",
     "exception": false,
     "start_time": "2025-06-12T16:34:15.704368",
     "status": "completed"
    },
    "tags": []
   },
   "outputs": [
    {
     "name": "stderr",
     "output_type": "stream",
     "text": [
      "\u001b[34m\u001b[1mwandb\u001b[0m: \u001b[33mWARNING\u001b[0m The `run_name` is currently set to the same value as `TrainingArguments.output_dir`. If this was not intended, please specify a different run name by setting the `TrainingArguments.run_name` parameter.\n"
     ]
    },
    {
     "data": {
      "text/html": [
       "\n",
       "    <div>\n",
       "      \n",
       "      <progress value='930' max='930' style='width:300px; height:20px; vertical-align: middle;'></progress>\n",
       "      [930/930 1:57:44, Epoch 9/10]\n",
       "    </div>\n",
       "    <table border=\"1\" class=\"dataframe\">\n",
       "  <thead>\n",
       " <tr style=\"text-align: left;\">\n",
       "      <th>Epoch</th>\n",
       "      <th>Training Loss</th>\n",
       "      <th>Validation Loss</th>\n",
       "      <th>Accuracy</th>\n",
       "    </tr>\n",
       "  </thead>\n",
       "  <tbody>\n",
       "    <tr>\n",
       "      <td>1</td>\n",
       "      <td>1.370800</td>\n",
       "      <td>1.796248</td>\n",
       "      <td>0.567083</td>\n",
       "    </tr>\n",
       "    <tr>\n",
       "      <td>2</td>\n",
       "      <td>1.020900</td>\n",
       "      <td>1.293425</td>\n",
       "      <td>0.682083</td>\n",
       "    </tr>\n",
       "    <tr>\n",
       "      <td>3</td>\n",
       "      <td>0.945400</td>\n",
       "      <td>1.115273</td>\n",
       "      <td>0.713333</td>\n",
       "    </tr>\n",
       "    <tr>\n",
       "      <td>4</td>\n",
       "      <td>0.826300</td>\n",
       "      <td>0.967232</td>\n",
       "      <td>0.749583</td>\n",
       "    </tr>\n",
       "    <tr>\n",
       "      <td>5</td>\n",
       "      <td>0.786700</td>\n",
       "      <td>0.906331</td>\n",
       "      <td>0.762500</td>\n",
       "    </tr>\n",
       "    <tr>\n",
       "      <td>6</td>\n",
       "      <td>0.668900</td>\n",
       "      <td>0.858473</td>\n",
       "      <td>0.775833</td>\n",
       "    </tr>\n",
       "    <tr>\n",
       "      <td>7</td>\n",
       "      <td>0.573100</td>\n",
       "      <td>0.799534</td>\n",
       "      <td>0.792500</td>\n",
       "    </tr>\n",
       "    <tr>\n",
       "      <td>8</td>\n",
       "      <td>0.572500</td>\n",
       "      <td>0.779134</td>\n",
       "      <td>0.786667</td>\n",
       "    </tr>\n",
       "    <tr>\n",
       "      <td>9</td>\n",
       "      <td>0.802000</td>\n",
       "      <td>0.751664</td>\n",
       "      <td>0.800000</td>\n",
       "    </tr>\n",
       "  </tbody>\n",
       "</table><p>"
      ],
      "text/plain": [
       "<IPython.core.display.HTML object>"
      ]
     },
     "metadata": {},
     "output_type": "display_data"
    },
    {
     "data": {
      "text/plain": [
       "TrainOutput(global_step=930, training_loss=1.1516033175171063, metrics={'train_runtime': 7073.8014, 'train_samples_per_second': 33.928, 'train_steps_per_second': 0.131, 'total_flos': 1.8406966873156485e+19, 'train_loss': 1.1516033175171063, 'epoch': 9.896})"
      ]
     },
     "execution_count": 15,
     "metadata": {},
     "output_type": "execute_result"
    }
   ],
   "source": [
    "trainer.train()"
   ]
  },
  {
   "cell_type": "code",
   "execution_count": 16,
   "id": "0db48c1a",
   "metadata": {
    "execution": {
     "iopub.execute_input": "2025-06-12T18:32:10.055337Z",
     "iopub.status.busy": "2025-06-12T18:32:10.055121Z",
     "iopub.status.idle": "2025-06-12T18:32:10.717374Z",
     "shell.execute_reply": "2025-06-12T18:32:10.716845Z"
    },
    "papermill": {
     "duration": 0.681919,
     "end_time": "2025-06-12T18:32:10.718745",
     "exception": false,
     "start_time": "2025-06-12T18:32:10.036826",
     "status": "completed"
    },
    "tags": []
   },
   "outputs": [],
   "source": [
    "trainer.save_model(\"final_model\")"
   ]
  },
  {
   "cell_type": "code",
   "execution_count": 17,
   "id": "b3e36049",
   "metadata": {
    "execution": {
     "iopub.execute_input": "2025-06-12T18:32:10.755385Z",
     "iopub.status.busy": "2025-06-12T18:32:10.755194Z",
     "iopub.status.idle": "2025-06-12T18:32:10.963299Z",
     "shell.execute_reply": "2025-06-12T18:32:10.962597Z"
    },
    "papermill": {
     "duration": 0.227364,
     "end_time": "2025-06-12T18:32:10.964477",
     "exception": false,
     "start_time": "2025-06-12T18:32:10.737113",
     "status": "completed"
    },
    "tags": []
   },
   "outputs": [
    {
     "name": "stdout",
     "output_type": "stream",
     "text": [
      "\u001b[0m\u001b[01;34mfinal_model\u001b[0m/  __notebook__.ipynb  \u001b[01;34mrvl_cdip_model\u001b[0m/\r\n"
     ]
    }
   ],
   "source": [
    "ls"
   ]
  },
  {
   "cell_type": "code",
   "execution_count": 18,
   "id": "820b98b4",
   "metadata": {
    "execution": {
     "iopub.execute_input": "2025-06-12T18:32:11.001105Z",
     "iopub.status.busy": "2025-06-12T18:32:11.000895Z",
     "iopub.status.idle": "2025-06-12T18:32:11.008155Z",
     "shell.execute_reply": "2025-06-12T18:32:11.007597Z"
    },
    "papermill": {
     "duration": 0.026799,
     "end_time": "2025-06-12T18:32:11.009227",
     "exception": false,
     "start_time": "2025-06-12T18:32:10.982428",
     "status": "completed"
    },
    "tags": []
   },
   "outputs": [
    {
     "name": "stdout",
     "output_type": "stream",
     "text": [
      "/kaggle/working/final_model\n"
     ]
    }
   ],
   "source": [
    "cd final_model"
   ]
  },
  {
   "cell_type": "code",
   "execution_count": 19,
   "id": "c2954dc1",
   "metadata": {
    "execution": {
     "iopub.execute_input": "2025-06-12T18:32:11.045012Z",
     "iopub.status.busy": "2025-06-12T18:32:11.044823Z",
     "iopub.status.idle": "2025-06-12T18:32:29.014188Z",
     "shell.execute_reply": "2025-06-12T18:32:29.013466Z"
    },
    "papermill": {
     "duration": 17.988506,
     "end_time": "2025-06-12T18:32:29.015360",
     "exception": false,
     "start_time": "2025-06-12T18:32:11.026854",
     "status": "completed"
    },
    "tags": []
   },
   "outputs": [
    {
     "name": "stdout",
     "output_type": "stream",
     "text": [
      "  adding: config.json (deflated 58%)\r\n",
      "  adding: preprocessor_config.json (deflated 51%)\r\n",
      "  adding: model.safetensors (deflated 7%)\r\n",
      "  adding: training_args.bin (deflated 51%)\r\n"
     ]
    }
   ],
   "source": [
    "!zip -r ../final_model.zip ."
   ]
  },
  {
   "cell_type": "code",
   "execution_count": 20,
   "id": "223dd93e",
   "metadata": {
    "execution": {
     "iopub.execute_input": "2025-06-12T18:32:29.053960Z",
     "iopub.status.busy": "2025-06-12T18:32:29.053259Z",
     "iopub.status.idle": "2025-06-12T18:32:29.058716Z",
     "shell.execute_reply": "2025-06-12T18:32:29.058054Z"
    },
    "papermill": {
     "duration": 0.025512,
     "end_time": "2025-06-12T18:32:29.060023",
     "exception": false,
     "start_time": "2025-06-12T18:32:29.034511",
     "status": "completed"
    },
    "tags": []
   },
   "outputs": [
    {
     "data": {
      "text/html": [
       "<a href='/kaggle/working/final_model.zip' target='_blank'>/kaggle/working/final_model.zip</a><br>"
      ],
      "text/plain": [
       "/kaggle/working/final_model.zip"
      ]
     },
     "execution_count": 20,
     "metadata": {},
     "output_type": "execute_result"
    }
   ],
   "source": [
    "from IPython.display import FileLink\n",
    "\n",
    "FileLink('/kaggle/working/final_model.zip')  # Replace with your filename\n"
   ]
  },
  {
   "cell_type": "code",
   "execution_count": null,
   "id": "c093f0be",
   "metadata": {
    "papermill": {
     "duration": 0.017483,
     "end_time": "2025-06-12T18:32:29.095171",
     "exception": false,
     "start_time": "2025-06-12T18:32:29.077688",
     "status": "completed"
    },
    "tags": []
   },
   "outputs": [],
   "source": []
  }
 ],
 "metadata": {
  "kaggle": {
   "accelerator": "gpu",
   "dataSources": [],
   "dockerImageVersionId": 31041,
   "isGpuEnabled": true,
   "isInternetEnabled": true,
   "language": "python",
   "sourceType": "notebook"
  },
  "kernelspec": {
   "display_name": "Python 3",
   "language": "python",
   "name": "python3"
  },
  "language_info": {
   "codemirror_mode": {
    "name": "ipython",
    "version": 3
   },
   "file_extension": ".py",
   "mimetype": "text/x-python",
   "name": "python",
   "nbconvert_exporter": "python",
   "pygments_lexer": "ipython3",
   "version": "3.11.11"
  },
  "papermill": {
   "default_parameters": {},
   "duration": 7270.389802,
   "end_time": "2025-06-12T18:32:32.903442",
   "environment_variables": {},
   "exception": null,
   "input_path": "__notebook__.ipynb",
   "output_path": "__notebook__.ipynb",
   "parameters": {},
   "start_time": "2025-06-12T16:31:22.513640",
   "version": "2.6.0"
  },
  "widgets": {
   "application/vnd.jupyter.widget-state+json": {
    "state": {
     "07d1027d2174499ca0c58c1f2a6719ca": {
      "model_module": "@jupyter-widgets/controls",
      "model_module_version": "2.0.0",
      "model_name": "HTMLStyleModel",
      "state": {
       "_model_module": "@jupyter-widgets/controls",
       "_model_module_version": "2.0.0",
       "_model_name": "HTMLStyleModel",
       "_view_count": null,
       "_view_module": "@jupyter-widgets/base",
       "_view_module_version": "2.0.0",
       "_view_name": "StyleView",
       "background": null,
       "description_width": "",
       "font_size": null,
       "text_color": null
      }
     },
     "0b8bbe166c4f49129ba1384742728098": {
      "model_module": "@jupyter-widgets/controls",
      "model_module_version": "2.0.0",
      "model_name": "HTMLModel",
      "state": {
       "_dom_classes": [],
       "_model_module": "@jupyter-widgets/controls",
       "_model_module_version": "2.0.0",
       "_model_name": "HTMLModel",
       "_view_count": null,
       "_view_module": "@jupyter-widgets/controls",
       "_view_module_version": "2.0.0",
       "_view_name": "HTMLView",
       "description": "",
       "description_allow_html": false,
       "layout": "IPY_MODEL_c48a34a6955a4be19f2f0930969fb98a",
       "placeholder": "​",
       "style": "IPY_MODEL_ff37fe429d5c4429bf00b3281fc77c66",
       "tabbable": null,
       "tooltip": null,
       "value": "Downloading builder script: 100%"
      }
     },
     "0d84f5dbaac74c04bdba21b6177b5b4a": {
      "model_module": "@jupyter-widgets/base",
      "model_module_version": "2.0.0",
      "model_name": "LayoutModel",
      "state": {
       "_model_module": "@jupyter-widgets/base",
       "_model_module_version": "2.0.0",
       "_model_name": "LayoutModel",
       "_view_count": null,
       "_view_module": "@jupyter-widgets/base",
       "_view_module_version": "2.0.0",
       "_view_name": "LayoutView",
       "align_content": null,
       "align_items": null,
       "align_self": null,
       "border_bottom": null,
       "border_left": null,
       "border_right": null,
       "border_top": null,
       "bottom": null,
       "display": null,
       "flex": null,
       "flex_flow": null,
       "grid_area": null,
       "grid_auto_columns": null,
       "grid_auto_flow": null,
       "grid_auto_rows": null,
       "grid_column": null,
       "grid_gap": null,
       "grid_row": null,
       "grid_template_areas": null,
       "grid_template_columns": null,
       "grid_template_rows": null,
       "height": null,
       "justify_content": null,
       "justify_items": null,
       "left": null,
       "margin": null,
       "max_height": null,
       "max_width": null,
       "min_height": null,
       "min_width": null,
       "object_fit": null,
       "object_position": null,
       "order": null,
       "overflow": null,
       "padding": null,
       "right": null,
       "top": null,
       "visibility": null,
       "width": null
      }
     },
     "102ff4c301554e6a99d3332f9f9893b0": {
      "model_module": "@jupyter-widgets/base",
      "model_module_version": "2.0.0",
      "model_name": "LayoutModel",
      "state": {
       "_model_module": "@jupyter-widgets/base",
       "_model_module_version": "2.0.0",
       "_model_name": "LayoutModel",
       "_view_count": null,
       "_view_module": "@jupyter-widgets/base",
       "_view_module_version": "2.0.0",
       "_view_name": "LayoutView",
       "align_content": null,
       "align_items": null,
       "align_self": null,
       "border_bottom": null,
       "border_left": null,
       "border_right": null,
       "border_top": null,
       "bottom": null,
       "display": null,
       "flex": null,
       "flex_flow": null,
       "grid_area": null,
       "grid_auto_columns": null,
       "grid_auto_flow": null,
       "grid_auto_rows": null,
       "grid_column": null,
       "grid_gap": null,
       "grid_row": null,
       "grid_template_areas": null,
       "grid_template_columns": null,
       "grid_template_rows": null,
       "height": null,
       "justify_content": null,
       "justify_items": null,
       "left": null,
       "margin": null,
       "max_height": null,
       "max_width": null,
       "min_height": null,
       "min_width": null,
       "object_fit": null,
       "object_position": null,
       "order": null,
       "overflow": null,
       "padding": null,
       "right": null,
       "top": null,
       "visibility": null,
       "width": null
      }
     },
     "1e22fb1ff8244e23981fe1bf8ed97e51": {
      "model_module": "@jupyter-widgets/controls",
      "model_module_version": "2.0.0",
      "model_name": "ProgressStyleModel",
      "state": {
       "_model_module": "@jupyter-widgets/controls",
       "_model_module_version": "2.0.0",
       "_model_name": "ProgressStyleModel",
       "_view_count": null,
       "_view_module": "@jupyter-widgets/base",
       "_view_module_version": "2.0.0",
       "_view_name": "StyleView",
       "bar_color": null,
       "description_width": ""
      }
     },
     "21eebbe1157140b1846a9c05fd1bb20c": {
      "model_module": "@jupyter-widgets/controls",
      "model_module_version": "2.0.0",
      "model_name": "HTMLStyleModel",
      "state": {
       "_model_module": "@jupyter-widgets/controls",
       "_model_module_version": "2.0.0",
       "_model_name": "HTMLStyleModel",
       "_view_count": null,
       "_view_module": "@jupyter-widgets/base",
       "_view_module_version": "2.0.0",
       "_view_name": "StyleView",
       "background": null,
       "description_width": "",
       "font_size": null,
       "text_color": null
      }
     },
     "230016205a3643d0adb9a5bb254d73f6": {
      "model_module": "@jupyter-widgets/controls",
      "model_module_version": "2.0.0",
      "model_name": "ProgressStyleModel",
      "state": {
       "_model_module": "@jupyter-widgets/controls",
       "_model_module_version": "2.0.0",
       "_model_name": "ProgressStyleModel",
       "_view_count": null,
       "_view_module": "@jupyter-widgets/base",
       "_view_module_version": "2.0.0",
       "_view_name": "StyleView",
       "bar_color": null,
       "description_width": ""
      }
     },
     "2f57c7cae73b4b77a924125056a73d20": {
      "model_module": "@jupyter-widgets/controls",
      "model_module_version": "2.0.0",
      "model_name": "HTMLStyleModel",
      "state": {
       "_model_module": "@jupyter-widgets/controls",
       "_model_module_version": "2.0.0",
       "_model_name": "HTMLStyleModel",
       "_view_count": null,
       "_view_module": "@jupyter-widgets/base",
       "_view_module_version": "2.0.0",
       "_view_name": "StyleView",
       "background": null,
       "description_width": "",
       "font_size": null,
       "text_color": null
      }
     },
     "343db64bad994d309b2ec18e7b6114c5": {
      "model_module": "@jupyter-widgets/controls",
      "model_module_version": "2.0.0",
      "model_name": "HTMLModel",
      "state": {
       "_dom_classes": [],
       "_model_module": "@jupyter-widgets/controls",
       "_model_module_version": "2.0.0",
       "_model_name": "HTMLModel",
       "_view_count": null,
       "_view_module": "@jupyter-widgets/controls",
       "_view_module_version": "2.0.0",
       "_view_name": "HTMLView",
       "description": "",
       "description_allow_html": false,
       "layout": "IPY_MODEL_b6aa3052748e4c7bba5ba535c1789ce7",
       "placeholder": "​",
       "style": "IPY_MODEL_21eebbe1157140b1846a9c05fd1bb20c",
       "tabbable": null,
       "tooltip": null,
       "value": "model.safetensors: 100%"
      }
     },
     "348200ce436a463c9fcce19deac3f0c4": {
      "model_module": "@jupyter-widgets/controls",
      "model_module_version": "2.0.0",
      "model_name": "FloatProgressModel",
      "state": {
       "_dom_classes": [],
       "_model_module": "@jupyter-widgets/controls",
       "_model_module_version": "2.0.0",
       "_model_name": "FloatProgressModel",
       "_view_count": null,
       "_view_module": "@jupyter-widgets/controls",
       "_view_module_version": "2.0.0",
       "_view_name": "ProgressView",
       "bar_style": "success",
       "description": "",
       "description_allow_html": false,
       "layout": "IPY_MODEL_a908b45bd10b4306ad58b601e44d39b2",
       "max": 345579424,
       "min": 0,
       "orientation": "horizontal",
       "style": "IPY_MODEL_1e22fb1ff8244e23981fe1bf8ed97e51",
       "tabbable": null,
       "tooltip": null,
       "value": 345579424
      }
     },
     "387e1505a050430da20358a865cefbc9": {
      "model_module": "@jupyter-widgets/controls",
      "model_module_version": "2.0.0",
      "model_name": "HTMLModel",
      "state": {
       "_dom_classes": [],
       "_model_module": "@jupyter-widgets/controls",
       "_model_module_version": "2.0.0",
       "_model_name": "HTMLModel",
       "_view_count": null,
       "_view_module": "@jupyter-widgets/controls",
       "_view_module_version": "2.0.0",
       "_view_name": "HTMLView",
       "description": "",
       "description_allow_html": false,
       "layout": "IPY_MODEL_f1350bce25b24afb949d911ef5e0af3b",
       "placeholder": "​",
       "style": "IPY_MODEL_2f57c7cae73b4b77a924125056a73d20",
       "tabbable": null,
       "tooltip": null,
       "value": " 160/160 [00:00&lt;00:00, 19.1kB/s]"
      }
     },
     "3b9659c67e8a4cc6a5bb2b004d7817d1": {
      "model_module": "@jupyter-widgets/controls",
      "model_module_version": "2.0.0",
      "model_name": "HTMLStyleModel",
      "state": {
       "_model_module": "@jupyter-widgets/controls",
       "_model_module_version": "2.0.0",
       "_model_name": "HTMLStyleModel",
       "_view_count": null,
       "_view_module": "@jupyter-widgets/base",
       "_view_module_version": "2.0.0",
       "_view_name": "StyleView",
       "background": null,
       "description_width": "",
       "font_size": null,
       "text_color": null
      }
     },
     "44f48feb90b5483c8b8c1ae35e47d45b": {
      "model_module": "@jupyter-widgets/controls",
      "model_module_version": "2.0.0",
      "model_name": "HTMLStyleModel",
      "state": {
       "_model_module": "@jupyter-widgets/controls",
       "_model_module_version": "2.0.0",
       "_model_name": "HTMLStyleModel",
       "_view_count": null,
       "_view_module": "@jupyter-widgets/base",
       "_view_module_version": "2.0.0",
       "_view_name": "StyleView",
       "background": null,
       "description_width": "",
       "font_size": null,
       "text_color": null
      }
     },
     "46ffa7a137734ab3a55d28f685bf33b1": {
      "model_module": "@jupyter-widgets/controls",
      "model_module_version": "2.0.0",
      "model_name": "HTMLStyleModel",
      "state": {
       "_model_module": "@jupyter-widgets/controls",
       "_model_module_version": "2.0.0",
       "_model_name": "HTMLStyleModel",
       "_view_count": null,
       "_view_module": "@jupyter-widgets/base",
       "_view_module_version": "2.0.0",
       "_view_name": "StyleView",
       "background": null,
       "description_width": "",
       "font_size": null,
       "text_color": null
      }
     },
     "4ed5d3b9c60c43adbc87b667ef2068cb": {
      "model_module": "@jupyter-widgets/controls",
      "model_module_version": "2.0.0",
      "model_name": "HTMLModel",
      "state": {
       "_dom_classes": [],
       "_model_module": "@jupyter-widgets/controls",
       "_model_module_version": "2.0.0",
       "_model_name": "HTMLModel",
       "_view_count": null,
       "_view_module": "@jupyter-widgets/controls",
       "_view_module_version": "2.0.0",
       "_view_name": "HTMLView",
       "description": "",
       "description_allow_html": false,
       "layout": "IPY_MODEL_602856657bbc48e8b8d69f57eb88611f",
       "placeholder": "​",
       "style": "IPY_MODEL_07d1027d2174499ca0c58c1f2a6719ca",
       "tabbable": null,
       "tooltip": null,
       "value": " 502/502 [00:00&lt;00:00, 66.3kB/s]"
      }
     },
     "54963c22a9c24aab9c0701b88dac6bce": {
      "model_module": "@jupyter-widgets/controls",
      "model_module_version": "2.0.0",
      "model_name": "FloatProgressModel",
      "state": {
       "_dom_classes": [],
       "_model_module": "@jupyter-widgets/controls",
       "_model_module_version": "2.0.0",
       "_model_name": "FloatProgressModel",
       "_view_count": null,
       "_view_module": "@jupyter-widgets/controls",
       "_view_module_version": "2.0.0",
       "_view_name": "ProgressView",
       "bar_style": "success",
       "description": "",
       "description_allow_html": false,
       "layout": "IPY_MODEL_0d84f5dbaac74c04bdba21b6177b5b4a",
       "max": 4203,
       "min": 0,
       "orientation": "horizontal",
       "style": "IPY_MODEL_d52656ba0f9f42c99e5c736551ae5679",
       "tabbable": null,
       "tooltip": null,
       "value": 4203
      }
     },
     "575ceb3b64d84130a53cbb9439f74d01": {
      "model_module": "@jupyter-widgets/base",
      "model_module_version": "2.0.0",
      "model_name": "LayoutModel",
      "state": {
       "_model_module": "@jupyter-widgets/base",
       "_model_module_version": "2.0.0",
       "_model_name": "LayoutModel",
       "_view_count": null,
       "_view_module": "@jupyter-widgets/base",
       "_view_module_version": "2.0.0",
       "_view_name": "LayoutView",
       "align_content": null,
       "align_items": null,
       "align_self": null,
       "border_bottom": null,
       "border_left": null,
       "border_right": null,
       "border_top": null,
       "bottom": null,
       "display": null,
       "flex": null,
       "flex_flow": null,
       "grid_area": null,
       "grid_auto_columns": null,
       "grid_auto_flow": null,
       "grid_auto_rows": null,
       "grid_column": null,
       "grid_gap": null,
       "grid_row": null,
       "grid_template_areas": null,
       "grid_template_columns": null,
       "grid_template_rows": null,
       "height": null,
       "justify_content": null,
       "justify_items": null,
       "left": null,
       "margin": null,
       "max_height": null,
       "max_width": null,
       "min_height": null,
       "min_width": null,
       "object_fit": null,
       "object_position": null,
       "order": null,
       "overflow": null,
       "padding": null,
       "right": null,
       "top": null,
       "visibility": null,
       "width": null
      }
     },
     "602856657bbc48e8b8d69f57eb88611f": {
      "model_module": "@jupyter-widgets/base",
      "model_module_version": "2.0.0",
      "model_name": "LayoutModel",
      "state": {
       "_model_module": "@jupyter-widgets/base",
       "_model_module_version": "2.0.0",
       "_model_name": "LayoutModel",
       "_view_count": null,
       "_view_module": "@jupyter-widgets/base",
       "_view_module_version": "2.0.0",
       "_view_name": "LayoutView",
       "align_content": null,
       "align_items": null,
       "align_self": null,
       "border_bottom": null,
       "border_left": null,
       "border_right": null,
       "border_top": null,
       "bottom": null,
       "display": null,
       "flex": null,
       "flex_flow": null,
       "grid_area": null,
       "grid_auto_columns": null,
       "grid_auto_flow": null,
       "grid_auto_rows": null,
       "grid_column": null,
       "grid_gap": null,
       "grid_row": null,
       "grid_template_areas": null,
       "grid_template_columns": null,
       "grid_template_rows": null,
       "height": null,
       "justify_content": null,
       "justify_items": null,
       "left": null,
       "margin": null,
       "max_height": null,
       "max_width": null,
       "min_height": null,
       "min_width": null,
       "object_fit": null,
       "object_position": null,
       "order": null,
       "overflow": null,
       "padding": null,
       "right": null,
       "top": null,
       "visibility": null,
       "width": null
      }
     },
     "7e46ab174b604bda961ade37e9edef40": {
      "model_module": "@jupyter-widgets/controls",
      "model_module_version": "2.0.0",
      "model_name": "FloatProgressModel",
      "state": {
       "_dom_classes": [],
       "_model_module": "@jupyter-widgets/controls",
       "_model_module_version": "2.0.0",
       "_model_name": "FloatProgressModel",
       "_view_count": null,
       "_view_module": "@jupyter-widgets/controls",
       "_view_module_version": "2.0.0",
       "_view_name": "ProgressView",
       "bar_style": "success",
       "description": "",
       "description_allow_html": false,
       "layout": "IPY_MODEL_a8dc3e368e4a4fc2b45153473f4011f1",
       "max": 502,
       "min": 0,
       "orientation": "horizontal",
       "style": "IPY_MODEL_e7f61a0dd013462eabdef39e96de1d71",
       "tabbable": null,
       "tooltip": null,
       "value": 502
      }
     },
     "7fd4341212f84bcd883b03faae83f831": {
      "model_module": "@jupyter-widgets/controls",
      "model_module_version": "2.0.0",
      "model_name": "FloatProgressModel",
      "state": {
       "_dom_classes": [],
       "_model_module": "@jupyter-widgets/controls",
       "_model_module_version": "2.0.0",
       "_model_name": "FloatProgressModel",
       "_view_count": null,
       "_view_module": "@jupyter-widgets/controls",
       "_view_module_version": "2.0.0",
       "_view_name": "ProgressView",
       "bar_style": "success",
       "description": "",
       "description_allow_html": false,
       "layout": "IPY_MODEL_a948820777e8443c9b16420a5762329c",
       "max": 160,
       "min": 0,
       "orientation": "horizontal",
       "style": "IPY_MODEL_230016205a3643d0adb9a5bb254d73f6",
       "tabbable": null,
       "tooltip": null,
       "value": 160
      }
     },
     "8145b1dc96c84a5e9b1c58eb56e53d2a": {
      "model_module": "@jupyter-widgets/controls",
      "model_module_version": "2.0.0",
      "model_name": "HBoxModel",
      "state": {
       "_dom_classes": [],
       "_model_module": "@jupyter-widgets/controls",
       "_model_module_version": "2.0.0",
       "_model_name": "HBoxModel",
       "_view_count": null,
       "_view_module": "@jupyter-widgets/controls",
       "_view_module_version": "2.0.0",
       "_view_name": "HBoxView",
       "box_style": "",
       "children": [
        "IPY_MODEL_cc77a6fd3d3e4c8aba61aade3590a849",
        "IPY_MODEL_7e46ab174b604bda961ade37e9edef40",
        "IPY_MODEL_4ed5d3b9c60c43adbc87b667ef2068cb"
       ],
       "layout": "IPY_MODEL_d1567139281840628b300f45d9b16dab",
       "tabbable": null,
       "tooltip": null
      }
     },
     "9d7d60b708144433a03ef510e9ca41fe": {
      "model_module": "@jupyter-widgets/controls",
      "model_module_version": "2.0.0",
      "model_name": "HBoxModel",
      "state": {
       "_dom_classes": [],
       "_model_module": "@jupyter-widgets/controls",
       "_model_module_version": "2.0.0",
       "_model_name": "HBoxModel",
       "_view_count": null,
       "_view_module": "@jupyter-widgets/controls",
       "_view_module_version": "2.0.0",
       "_view_name": "HBoxView",
       "box_style": "",
       "children": [
        "IPY_MODEL_0b8bbe166c4f49129ba1384742728098",
        "IPY_MODEL_54963c22a9c24aab9c0701b88dac6bce",
        "IPY_MODEL_ed2245cdfed249c183cb7b47b8704069"
       ],
       "layout": "IPY_MODEL_bff4643475b84fe6b5e14624826a66fb",
       "tabbable": null,
       "tooltip": null
      }
     },
     "a02462e77d964a1c8d04f3ed84115e26": {
      "model_module": "@jupyter-widgets/base",
      "model_module_version": "2.0.0",
      "model_name": "LayoutModel",
      "state": {
       "_model_module": "@jupyter-widgets/base",
       "_model_module_version": "2.0.0",
       "_model_name": "LayoutModel",
       "_view_count": null,
       "_view_module": "@jupyter-widgets/base",
       "_view_module_version": "2.0.0",
       "_view_name": "LayoutView",
       "align_content": null,
       "align_items": null,
       "align_self": null,
       "border_bottom": null,
       "border_left": null,
       "border_right": null,
       "border_top": null,
       "bottom": null,
       "display": null,
       "flex": null,
       "flex_flow": null,
       "grid_area": null,
       "grid_auto_columns": null,
       "grid_auto_flow": null,
       "grid_auto_rows": null,
       "grid_column": null,
       "grid_gap": null,
       "grid_row": null,
       "grid_template_areas": null,
       "grid_template_columns": null,
       "grid_template_rows": null,
       "height": null,
       "justify_content": null,
       "justify_items": null,
       "left": null,
       "margin": null,
       "max_height": null,
       "max_width": null,
       "min_height": null,
       "min_width": null,
       "object_fit": null,
       "object_position": null,
       "order": null,
       "overflow": null,
       "padding": null,
       "right": null,
       "top": null,
       "visibility": null,
       "width": null
      }
     },
     "a36df85b495f43518e2b052eeb6365fa": {
      "model_module": "@jupyter-widgets/controls",
      "model_module_version": "2.0.0",
      "model_name": "HTMLStyleModel",
      "state": {
       "_model_module": "@jupyter-widgets/controls",
       "_model_module_version": "2.0.0",
       "_model_name": "HTMLStyleModel",
       "_view_count": null,
       "_view_module": "@jupyter-widgets/base",
       "_view_module_version": "2.0.0",
       "_view_name": "StyleView",
       "background": null,
       "description_width": "",
       "font_size": null,
       "text_color": null
      }
     },
     "a8dc3e368e4a4fc2b45153473f4011f1": {
      "model_module": "@jupyter-widgets/base",
      "model_module_version": "2.0.0",
      "model_name": "LayoutModel",
      "state": {
       "_model_module": "@jupyter-widgets/base",
       "_model_module_version": "2.0.0",
       "_model_name": "LayoutModel",
       "_view_count": null,
       "_view_module": "@jupyter-widgets/base",
       "_view_module_version": "2.0.0",
       "_view_name": "LayoutView",
       "align_content": null,
       "align_items": null,
       "align_self": null,
       "border_bottom": null,
       "border_left": null,
       "border_right": null,
       "border_top": null,
       "bottom": null,
       "display": null,
       "flex": null,
       "flex_flow": null,
       "grid_area": null,
       "grid_auto_columns": null,
       "grid_auto_flow": null,
       "grid_auto_rows": null,
       "grid_column": null,
       "grid_gap": null,
       "grid_row": null,
       "grid_template_areas": null,
       "grid_template_columns": null,
       "grid_template_rows": null,
       "height": null,
       "justify_content": null,
       "justify_items": null,
       "left": null,
       "margin": null,
       "max_height": null,
       "max_width": null,
       "min_height": null,
       "min_width": null,
       "object_fit": null,
       "object_position": null,
       "order": null,
       "overflow": null,
       "padding": null,
       "right": null,
       "top": null,
       "visibility": null,
       "width": null
      }
     },
     "a908b45bd10b4306ad58b601e44d39b2": {
      "model_module": "@jupyter-widgets/base",
      "model_module_version": "2.0.0",
      "model_name": "LayoutModel",
      "state": {
       "_model_module": "@jupyter-widgets/base",
       "_model_module_version": "2.0.0",
       "_model_name": "LayoutModel",
       "_view_count": null,
       "_view_module": "@jupyter-widgets/base",
       "_view_module_version": "2.0.0",
       "_view_name": "LayoutView",
       "align_content": null,
       "align_items": null,
       "align_self": null,
       "border_bottom": null,
       "border_left": null,
       "border_right": null,
       "border_top": null,
       "bottom": null,
       "display": null,
       "flex": null,
       "flex_flow": null,
       "grid_area": null,
       "grid_auto_columns": null,
       "grid_auto_flow": null,
       "grid_auto_rows": null,
       "grid_column": null,
       "grid_gap": null,
       "grid_row": null,
       "grid_template_areas": null,
       "grid_template_columns": null,
       "grid_template_rows": null,
       "height": null,
       "justify_content": null,
       "justify_items": null,
       "left": null,
       "margin": null,
       "max_height": null,
       "max_width": null,
       "min_height": null,
       "min_width": null,
       "object_fit": null,
       "object_position": null,
       "order": null,
       "overflow": null,
       "padding": null,
       "right": null,
       "top": null,
       "visibility": null,
       "width": null
      }
     },
     "a948820777e8443c9b16420a5762329c": {
      "model_module": "@jupyter-widgets/base",
      "model_module_version": "2.0.0",
      "model_name": "LayoutModel",
      "state": {
       "_model_module": "@jupyter-widgets/base",
       "_model_module_version": "2.0.0",
       "_model_name": "LayoutModel",
       "_view_count": null,
       "_view_module": "@jupyter-widgets/base",
       "_view_module_version": "2.0.0",
       "_view_name": "LayoutView",
       "align_content": null,
       "align_items": null,
       "align_self": null,
       "border_bottom": null,
       "border_left": null,
       "border_right": null,
       "border_top": null,
       "bottom": null,
       "display": null,
       "flex": null,
       "flex_flow": null,
       "grid_area": null,
       "grid_auto_columns": null,
       "grid_auto_flow": null,
       "grid_auto_rows": null,
       "grid_column": null,
       "grid_gap": null,
       "grid_row": null,
       "grid_template_areas": null,
       "grid_template_columns": null,
       "grid_template_rows": null,
       "height": null,
       "justify_content": null,
       "justify_items": null,
       "left": null,
       "margin": null,
       "max_height": null,
       "max_width": null,
       "min_height": null,
       "min_width": null,
       "object_fit": null,
       "object_position": null,
       "order": null,
       "overflow": null,
       "padding": null,
       "right": null,
       "top": null,
       "visibility": null,
       "width": null
      }
     },
     "b6aa3052748e4c7bba5ba535c1789ce7": {
      "model_module": "@jupyter-widgets/base",
      "model_module_version": "2.0.0",
      "model_name": "LayoutModel",
      "state": {
       "_model_module": "@jupyter-widgets/base",
       "_model_module_version": "2.0.0",
       "_model_name": "LayoutModel",
       "_view_count": null,
       "_view_module": "@jupyter-widgets/base",
       "_view_module_version": "2.0.0",
       "_view_name": "LayoutView",
       "align_content": null,
       "align_items": null,
       "align_self": null,
       "border_bottom": null,
       "border_left": null,
       "border_right": null,
       "border_top": null,
       "bottom": null,
       "display": null,
       "flex": null,
       "flex_flow": null,
       "grid_area": null,
       "grid_auto_columns": null,
       "grid_auto_flow": null,
       "grid_auto_rows": null,
       "grid_column": null,
       "grid_gap": null,
       "grid_row": null,
       "grid_template_areas": null,
       "grid_template_columns": null,
       "grid_template_rows": null,
       "height": null,
       "justify_content": null,
       "justify_items": null,
       "left": null,
       "margin": null,
       "max_height": null,
       "max_width": null,
       "min_height": null,
       "min_width": null,
       "object_fit": null,
       "object_position": null,
       "order": null,
       "overflow": null,
       "padding": null,
       "right": null,
       "top": null,
       "visibility": null,
       "width": null
      }
     },
     "bd1ec234979040b4b4dcf6270a27e356": {
      "model_module": "@jupyter-widgets/controls",
      "model_module_version": "2.0.0",
      "model_name": "HTMLModel",
      "state": {
       "_dom_classes": [],
       "_model_module": "@jupyter-widgets/controls",
       "_model_module_version": "2.0.0",
       "_model_name": "HTMLModel",
       "_view_count": null,
       "_view_module": "@jupyter-widgets/controls",
       "_view_module_version": "2.0.0",
       "_view_name": "HTMLView",
       "description": "",
       "description_allow_html": false,
       "layout": "IPY_MODEL_e03777d621ae40c782f9673f878af14b",
       "placeholder": "​",
       "style": "IPY_MODEL_a36df85b495f43518e2b052eeb6365fa",
       "tabbable": null,
       "tooltip": null,
       "value": "preprocessor_config.json: 100%"
      }
     },
     "bff4643475b84fe6b5e14624826a66fb": {
      "model_module": "@jupyter-widgets/base",
      "model_module_version": "2.0.0",
      "model_name": "LayoutModel",
      "state": {
       "_model_module": "@jupyter-widgets/base",
       "_model_module_version": "2.0.0",
       "_model_name": "LayoutModel",
       "_view_count": null,
       "_view_module": "@jupyter-widgets/base",
       "_view_module_version": "2.0.0",
       "_view_name": "LayoutView",
       "align_content": null,
       "align_items": null,
       "align_self": null,
       "border_bottom": null,
       "border_left": null,
       "border_right": null,
       "border_top": null,
       "bottom": null,
       "display": null,
       "flex": null,
       "flex_flow": null,
       "grid_area": null,
       "grid_auto_columns": null,
       "grid_auto_flow": null,
       "grid_auto_rows": null,
       "grid_column": null,
       "grid_gap": null,
       "grid_row": null,
       "grid_template_areas": null,
       "grid_template_columns": null,
       "grid_template_rows": null,
       "height": null,
       "justify_content": null,
       "justify_items": null,
       "left": null,
       "margin": null,
       "max_height": null,
       "max_width": null,
       "min_height": null,
       "min_width": null,
       "object_fit": null,
       "object_position": null,
       "order": null,
       "overflow": null,
       "padding": null,
       "right": null,
       "top": null,
       "visibility": null,
       "width": null
      }
     },
     "c48a34a6955a4be19f2f0930969fb98a": {
      "model_module": "@jupyter-widgets/base",
      "model_module_version": "2.0.0",
      "model_name": "LayoutModel",
      "state": {
       "_model_module": "@jupyter-widgets/base",
       "_model_module_version": "2.0.0",
       "_model_name": "LayoutModel",
       "_view_count": null,
       "_view_module": "@jupyter-widgets/base",
       "_view_module_version": "2.0.0",
       "_view_name": "LayoutView",
       "align_content": null,
       "align_items": null,
       "align_self": null,
       "border_bottom": null,
       "border_left": null,
       "border_right": null,
       "border_top": null,
       "bottom": null,
       "display": null,
       "flex": null,
       "flex_flow": null,
       "grid_area": null,
       "grid_auto_columns": null,
       "grid_auto_flow": null,
       "grid_auto_rows": null,
       "grid_column": null,
       "grid_gap": null,
       "grid_row": null,
       "grid_template_areas": null,
       "grid_template_columns": null,
       "grid_template_rows": null,
       "height": null,
       "justify_content": null,
       "justify_items": null,
       "left": null,
       "margin": null,
       "max_height": null,
       "max_width": null,
       "min_height": null,
       "min_width": null,
       "object_fit": null,
       "object_position": null,
       "order": null,
       "overflow": null,
       "padding": null,
       "right": null,
       "top": null,
       "visibility": null,
       "width": null
      }
     },
     "cc77a6fd3d3e4c8aba61aade3590a849": {
      "model_module": "@jupyter-widgets/controls",
      "model_module_version": "2.0.0",
      "model_name": "HTMLModel",
      "state": {
       "_dom_classes": [],
       "_model_module": "@jupyter-widgets/controls",
       "_model_module_version": "2.0.0",
       "_model_name": "HTMLModel",
       "_view_count": null,
       "_view_module": "@jupyter-widgets/controls",
       "_view_module_version": "2.0.0",
       "_view_name": "HTMLView",
       "description": "",
       "description_allow_html": false,
       "layout": "IPY_MODEL_a02462e77d964a1c8d04f3ed84115e26",
       "placeholder": "​",
       "style": "IPY_MODEL_44f48feb90b5483c8b8c1ae35e47d45b",
       "tabbable": null,
       "tooltip": null,
       "value": "config.json: 100%"
      }
     },
     "d1567139281840628b300f45d9b16dab": {
      "model_module": "@jupyter-widgets/base",
      "model_module_version": "2.0.0",
      "model_name": "LayoutModel",
      "state": {
       "_model_module": "@jupyter-widgets/base",
       "_model_module_version": "2.0.0",
       "_model_name": "LayoutModel",
       "_view_count": null,
       "_view_module": "@jupyter-widgets/base",
       "_view_module_version": "2.0.0",
       "_view_name": "LayoutView",
       "align_content": null,
       "align_items": null,
       "align_self": null,
       "border_bottom": null,
       "border_left": null,
       "border_right": null,
       "border_top": null,
       "bottom": null,
       "display": null,
       "flex": null,
       "flex_flow": null,
       "grid_area": null,
       "grid_auto_columns": null,
       "grid_auto_flow": null,
       "grid_auto_rows": null,
       "grid_column": null,
       "grid_gap": null,
       "grid_row": null,
       "grid_template_areas": null,
       "grid_template_columns": null,
       "grid_template_rows": null,
       "height": null,
       "justify_content": null,
       "justify_items": null,
       "left": null,
       "margin": null,
       "max_height": null,
       "max_width": null,
       "min_height": null,
       "min_width": null,
       "object_fit": null,
       "object_position": null,
       "order": null,
       "overflow": null,
       "padding": null,
       "right": null,
       "top": null,
       "visibility": null,
       "width": null
      }
     },
     "d52656ba0f9f42c99e5c736551ae5679": {
      "model_module": "@jupyter-widgets/controls",
      "model_module_version": "2.0.0",
      "model_name": "ProgressStyleModel",
      "state": {
       "_model_module": "@jupyter-widgets/controls",
       "_model_module_version": "2.0.0",
       "_model_name": "ProgressStyleModel",
       "_view_count": null,
       "_view_module": "@jupyter-widgets/base",
       "_view_module_version": "2.0.0",
       "_view_name": "StyleView",
       "bar_color": null,
       "description_width": ""
      }
     },
     "dcbfedc41b6144539eb933702ca559c9": {
      "model_module": "@jupyter-widgets/controls",
      "model_module_version": "2.0.0",
      "model_name": "HBoxModel",
      "state": {
       "_dom_classes": [],
       "_model_module": "@jupyter-widgets/controls",
       "_model_module_version": "2.0.0",
       "_model_name": "HBoxModel",
       "_view_count": null,
       "_view_module": "@jupyter-widgets/controls",
       "_view_module_version": "2.0.0",
       "_view_name": "HBoxView",
       "box_style": "",
       "children": [
        "IPY_MODEL_bd1ec234979040b4b4dcf6270a27e356",
        "IPY_MODEL_7fd4341212f84bcd883b03faae83f831",
        "IPY_MODEL_387e1505a050430da20358a865cefbc9"
       ],
       "layout": "IPY_MODEL_102ff4c301554e6a99d3332f9f9893b0",
       "tabbable": null,
       "tooltip": null
      }
     },
     "ddccf699dd7c427cbe92799f3e3b58b9": {
      "model_module": "@jupyter-widgets/base",
      "model_module_version": "2.0.0",
      "model_name": "LayoutModel",
      "state": {
       "_model_module": "@jupyter-widgets/base",
       "_model_module_version": "2.0.0",
       "_model_name": "LayoutModel",
       "_view_count": null,
       "_view_module": "@jupyter-widgets/base",
       "_view_module_version": "2.0.0",
       "_view_name": "LayoutView",
       "align_content": null,
       "align_items": null,
       "align_self": null,
       "border_bottom": null,
       "border_left": null,
       "border_right": null,
       "border_top": null,
       "bottom": null,
       "display": null,
       "flex": null,
       "flex_flow": null,
       "grid_area": null,
       "grid_auto_columns": null,
       "grid_auto_flow": null,
       "grid_auto_rows": null,
       "grid_column": null,
       "grid_gap": null,
       "grid_row": null,
       "grid_template_areas": null,
       "grid_template_columns": null,
       "grid_template_rows": null,
       "height": null,
       "justify_content": null,
       "justify_items": null,
       "left": null,
       "margin": null,
       "max_height": null,
       "max_width": null,
       "min_height": null,
       "min_width": null,
       "object_fit": null,
       "object_position": null,
       "order": null,
       "overflow": null,
       "padding": null,
       "right": null,
       "top": null,
       "visibility": null,
       "width": null
      }
     },
     "e03777d621ae40c782f9673f878af14b": {
      "model_module": "@jupyter-widgets/base",
      "model_module_version": "2.0.0",
      "model_name": "LayoutModel",
      "state": {
       "_model_module": "@jupyter-widgets/base",
       "_model_module_version": "2.0.0",
       "_model_name": "LayoutModel",
       "_view_count": null,
       "_view_module": "@jupyter-widgets/base",
       "_view_module_version": "2.0.0",
       "_view_name": "LayoutView",
       "align_content": null,
       "align_items": null,
       "align_self": null,
       "border_bottom": null,
       "border_left": null,
       "border_right": null,
       "border_top": null,
       "bottom": null,
       "display": null,
       "flex": null,
       "flex_flow": null,
       "grid_area": null,
       "grid_auto_columns": null,
       "grid_auto_flow": null,
       "grid_auto_rows": null,
       "grid_column": null,
       "grid_gap": null,
       "grid_row": null,
       "grid_template_areas": null,
       "grid_template_columns": null,
       "grid_template_rows": null,
       "height": null,
       "justify_content": null,
       "justify_items": null,
       "left": null,
       "margin": null,
       "max_height": null,
       "max_width": null,
       "min_height": null,
       "min_width": null,
       "object_fit": null,
       "object_position": null,
       "order": null,
       "overflow": null,
       "padding": null,
       "right": null,
       "top": null,
       "visibility": null,
       "width": null
      }
     },
     "e7f61a0dd013462eabdef39e96de1d71": {
      "model_module": "@jupyter-widgets/controls",
      "model_module_version": "2.0.0",
      "model_name": "ProgressStyleModel",
      "state": {
       "_model_module": "@jupyter-widgets/controls",
       "_model_module_version": "2.0.0",
       "_model_name": "ProgressStyleModel",
       "_view_count": null,
       "_view_module": "@jupyter-widgets/base",
       "_view_module_version": "2.0.0",
       "_view_name": "StyleView",
       "bar_color": null,
       "description_width": ""
      }
     },
     "eb8893a79b4f48ef8873da68724ac791": {
      "model_module": "@jupyter-widgets/controls",
      "model_module_version": "2.0.0",
      "model_name": "HBoxModel",
      "state": {
       "_dom_classes": [],
       "_model_module": "@jupyter-widgets/controls",
       "_model_module_version": "2.0.0",
       "_model_name": "HBoxModel",
       "_view_count": null,
       "_view_module": "@jupyter-widgets/controls",
       "_view_module_version": "2.0.0",
       "_view_name": "HBoxView",
       "box_style": "",
       "children": [
        "IPY_MODEL_343db64bad994d309b2ec18e7b6114c5",
        "IPY_MODEL_348200ce436a463c9fcce19deac3f0c4",
        "IPY_MODEL_f8652115b59540d485d3f378d63e6593"
       ],
       "layout": "IPY_MODEL_ddccf699dd7c427cbe92799f3e3b58b9",
       "tabbable": null,
       "tooltip": null
      }
     },
     "ed2245cdfed249c183cb7b47b8704069": {
      "model_module": "@jupyter-widgets/controls",
      "model_module_version": "2.0.0",
      "model_name": "HTMLModel",
      "state": {
       "_dom_classes": [],
       "_model_module": "@jupyter-widgets/controls",
       "_model_module_version": "2.0.0",
       "_model_name": "HTMLModel",
       "_view_count": null,
       "_view_module": "@jupyter-widgets/controls",
       "_view_module_version": "2.0.0",
       "_view_name": "HTMLView",
       "description": "",
       "description_allow_html": false,
       "layout": "IPY_MODEL_f1003b8636ac46d0a08587d8349a0bb0",
       "placeholder": "​",
       "style": "IPY_MODEL_3b9659c67e8a4cc6a5bb2b004d7817d1",
       "tabbable": null,
       "tooltip": null,
       "value": " 4.20k/4.20k [00:00&lt;00:00, 524kB/s]"
      }
     },
     "f1003b8636ac46d0a08587d8349a0bb0": {
      "model_module": "@jupyter-widgets/base",
      "model_module_version": "2.0.0",
      "model_name": "LayoutModel",
      "state": {
       "_model_module": "@jupyter-widgets/base",
       "_model_module_version": "2.0.0",
       "_model_name": "LayoutModel",
       "_view_count": null,
       "_view_module": "@jupyter-widgets/base",
       "_view_module_version": "2.0.0",
       "_view_name": "LayoutView",
       "align_content": null,
       "align_items": null,
       "align_self": null,
       "border_bottom": null,
       "border_left": null,
       "border_right": null,
       "border_top": null,
       "bottom": null,
       "display": null,
       "flex": null,
       "flex_flow": null,
       "grid_area": null,
       "grid_auto_columns": null,
       "grid_auto_flow": null,
       "grid_auto_rows": null,
       "grid_column": null,
       "grid_gap": null,
       "grid_row": null,
       "grid_template_areas": null,
       "grid_template_columns": null,
       "grid_template_rows": null,
       "height": null,
       "justify_content": null,
       "justify_items": null,
       "left": null,
       "margin": null,
       "max_height": null,
       "max_width": null,
       "min_height": null,
       "min_width": null,
       "object_fit": null,
       "object_position": null,
       "order": null,
       "overflow": null,
       "padding": null,
       "right": null,
       "top": null,
       "visibility": null,
       "width": null
      }
     },
     "f1350bce25b24afb949d911ef5e0af3b": {
      "model_module": "@jupyter-widgets/base",
      "model_module_version": "2.0.0",
      "model_name": "LayoutModel",
      "state": {
       "_model_module": "@jupyter-widgets/base",
       "_model_module_version": "2.0.0",
       "_model_name": "LayoutModel",
       "_view_count": null,
       "_view_module": "@jupyter-widgets/base",
       "_view_module_version": "2.0.0",
       "_view_name": "LayoutView",
       "align_content": null,
       "align_items": null,
       "align_self": null,
       "border_bottom": null,
       "border_left": null,
       "border_right": null,
       "border_top": null,
       "bottom": null,
       "display": null,
       "flex": null,
       "flex_flow": null,
       "grid_area": null,
       "grid_auto_columns": null,
       "grid_auto_flow": null,
       "grid_auto_rows": null,
       "grid_column": null,
       "grid_gap": null,
       "grid_row": null,
       "grid_template_areas": null,
       "grid_template_columns": null,
       "grid_template_rows": null,
       "height": null,
       "justify_content": null,
       "justify_items": null,
       "left": null,
       "margin": null,
       "max_height": null,
       "max_width": null,
       "min_height": null,
       "min_width": null,
       "object_fit": null,
       "object_position": null,
       "order": null,
       "overflow": null,
       "padding": null,
       "right": null,
       "top": null,
       "visibility": null,
       "width": null
      }
     },
     "f8652115b59540d485d3f378d63e6593": {
      "model_module": "@jupyter-widgets/controls",
      "model_module_version": "2.0.0",
      "model_name": "HTMLModel",
      "state": {
       "_dom_classes": [],
       "_model_module": "@jupyter-widgets/controls",
       "_model_module_version": "2.0.0",
       "_model_name": "HTMLModel",
       "_view_count": null,
       "_view_module": "@jupyter-widgets/controls",
       "_view_module_version": "2.0.0",
       "_view_name": "HTMLView",
       "description": "",
       "description_allow_html": false,
       "layout": "IPY_MODEL_575ceb3b64d84130a53cbb9439f74d01",
       "placeholder": "​",
       "style": "IPY_MODEL_46ffa7a137734ab3a55d28f685bf33b1",
       "tabbable": null,
       "tooltip": null,
       "value": " 346M/346M [00:01&lt;00:00, 340MB/s]"
      }
     },
     "ff37fe429d5c4429bf00b3281fc77c66": {
      "model_module": "@jupyter-widgets/controls",
      "model_module_version": "2.0.0",
      "model_name": "HTMLStyleModel",
      "state": {
       "_model_module": "@jupyter-widgets/controls",
       "_model_module_version": "2.0.0",
       "_model_name": "HTMLStyleModel",
       "_view_count": null,
       "_view_module": "@jupyter-widgets/base",
       "_view_module_version": "2.0.0",
       "_view_name": "StyleView",
       "background": null,
       "description_width": "",
       "font_size": null,
       "text_color": null
      }
     }
    },
    "version_major": 2,
    "version_minor": 0
   }
  }
 },
 "nbformat": 4,
 "nbformat_minor": 5
}
